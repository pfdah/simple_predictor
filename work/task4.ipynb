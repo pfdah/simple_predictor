{
 "cells": [
  {
   "cell_type": "code",
   "execution_count": 1,
   "metadata": {},
   "outputs": [],
   "source": [
    "import pandas as pd\n",
    "import numpy as np\n",
    "import seaborn as sns\n",
    "from sklearn.linear_model import LogisticRegression\n",
    "from sklearn import tree,svm\n",
    "from sklearn.preprocessing import(LabelEncoder,\n",
    "                                  OneHotEncoder, \n",
    "                                  StandardScaler)\n",
    "from sklearn.metrics import (accuracy_score,\n",
    "                             classification_report,\n",
    "                             confusion_matrix,\n",
    "                             roc_auc_score)\n",
    "from module import MultiLogistic, load_model"
   ]
  },
  {
   "cell_type": "code",
   "execution_count": 2,
   "metadata": {},
   "outputs": [
    {
     "data": {
      "text/html": [
       "<div>\n",
       "<style scoped>\n",
       "    .dataframe tbody tr th:only-of-type {\n",
       "        vertical-align: middle;\n",
       "    }\n",
       "\n",
       "    .dataframe tbody tr th {\n",
       "        vertical-align: top;\n",
       "    }\n",
       "\n",
       "    .dataframe thead th {\n",
       "        text-align: right;\n",
       "    }\n",
       "</style>\n",
       "<table border=\"1\" class=\"dataframe\">\n",
       "  <thead>\n",
       "    <tr style=\"text-align: right;\">\n",
       "      <th></th>\n",
       "      <th>Sex</th>\n",
       "      <th>Age</th>\n",
       "      <th>SBP(mmHg)</th>\n",
       "      <th>Treatment for Hypertension</th>\n",
       "      <th>Current Smoker</th>\n",
       "      <th>Diabetes</th>\n",
       "      <th>HDL</th>\n",
       "      <th>TCL</th>\n",
       "      <th>Risk</th>\n",
       "    </tr>\n",
       "  </thead>\n",
       "  <tbody>\n",
       "    <tr>\n",
       "      <th>0</th>\n",
       "      <td>Female</td>\n",
       "      <td>74.0</td>\n",
       "      <td>113.0</td>\n",
       "      <td>Yes</td>\n",
       "      <td>Yes</td>\n",
       "      <td>No</td>\n",
       "      <td>66.0</td>\n",
       "      <td>135</td>\n",
       "      <td>Intermediate Risk (≥7.5% - &lt;20%)</td>\n",
       "    </tr>\n",
       "    <tr>\n",
       "      <th>1</th>\n",
       "      <td>Male</td>\n",
       "      <td>69.0</td>\n",
       "      <td>93.0</td>\n",
       "      <td>No</td>\n",
       "      <td>No</td>\n",
       "      <td>Yes</td>\n",
       "      <td>48.0</td>\n",
       "      <td>374</td>\n",
       "      <td>High Risk (≥20%)</td>\n",
       "    </tr>\n",
       "    <tr>\n",
       "      <th>2</th>\n",
       "      <td>Female</td>\n",
       "      <td>43.0</td>\n",
       "      <td>94.0</td>\n",
       "      <td>No</td>\n",
       "      <td>No</td>\n",
       "      <td>No</td>\n",
       "      <td>83.0</td>\n",
       "      <td>315</td>\n",
       "      <td>Low Risk (&lt;5%)</td>\n",
       "    </tr>\n",
       "    <tr>\n",
       "      <th>3</th>\n",
       "      <td>Female</td>\n",
       "      <td>63.0</td>\n",
       "      <td>140.0</td>\n",
       "      <td>No</td>\n",
       "      <td>Yes</td>\n",
       "      <td>Yes</td>\n",
       "      <td>14.0</td>\n",
       "      <td>195</td>\n",
       "      <td>High Risk (≥20%)</td>\n",
       "    </tr>\n",
       "    <tr>\n",
       "      <th>4</th>\n",
       "      <td>Female</td>\n",
       "      <td>67.0</td>\n",
       "      <td>NaN</td>\n",
       "      <td>Yes</td>\n",
       "      <td>No</td>\n",
       "      <td>Yes</td>\n",
       "      <td>34.0</td>\n",
       "      <td>275</td>\n",
       "      <td>High Risk (≥20%)</td>\n",
       "    </tr>\n",
       "  </tbody>\n",
       "</table>\n",
       "</div>"
      ],
      "text/plain": [
       "      Sex   Age  SBP(mmHg) Treatment for Hypertension Current Smoker Diabetes  \\\n",
       "0  Female  74.0      113.0                        Yes            Yes       No   \n",
       "1    Male  69.0       93.0                         No             No      Yes   \n",
       "2  Female  43.0       94.0                         No             No       No   \n",
       "3  Female  63.0      140.0                         No            Yes      Yes   \n",
       "4  Female  67.0        NaN                        Yes             No      Yes   \n",
       "\n",
       "    HDL  TCL                              Risk  \n",
       "0  66.0  135  Intermediate Risk (≥7.5% - <20%)  \n",
       "1  48.0  374                  High Risk (≥20%)  \n",
       "2  83.0  315                    Low Risk (<5%)  \n",
       "3  14.0  195                  High Risk (≥20%)  \n",
       "4  34.0  275                  High Risk (≥20%)  "
      ]
     },
     "execution_count": 2,
     "metadata": {},
     "output_type": "execute_result"
    }
   ],
   "source": [
    "df = pd.read_csv('../data/HeartStudy_train.csv')\n",
    "df.head()"
   ]
  },
  {
   "attachments": {},
   "cell_type": "markdown",
   "metadata": {},
   "source": [
    "## EDA"
   ]
  },
  {
   "cell_type": "code",
   "execution_count": 3,
   "metadata": {},
   "outputs": [
    {
     "name": "stdout",
     "output_type": "stream",
     "text": [
      "High Risk (≥20%)                    5026\n",
      "Intermediate Risk (≥7.5% - <20%)    3021\n",
      "Low Risk (<5%)                      1393\n",
      "Borderline Risk (>5% - <7.5%)        675\n",
      "Name: Risk, dtype: int64\n"
     ]
    },
    {
     "data": {
      "text/plain": [
       "<AxesSubplot: title={'center': 'Count of the Risk values'}>"
      ]
     },
     "execution_count": 3,
     "metadata": {},
     "output_type": "execute_result"
    },
    {
     "data": {
      "image/png": "[encoded data removed]",
      "text/plain": [
       "<Figure size 640x480 with 1 Axes>"
      ]
     },
     "metadata": {},
     "output_type": "display_data"
    }
   ],
   "source": [
    "print(df[\"Risk\"].value_counts())\n",
    "df[\"Risk\"].value_counts().plot(kind='bar',title='Count of the Risk values')"
   ]
  },
  {
   "attachments": {},
   "cell_type": "markdown",
   "metadata": {},
   "source": [
    "We can see that there are 4 categories/classes in the target variable, and we can see that High Risk contains more data."
   ]
  },
  {
   "cell_type": "code",
   "execution_count": 4,
   "metadata": {},
   "outputs": [
    {
     "data": {
      "text/plain": [
       "Text(0.5, 1.0, 'Male vs Female Count')"
      ]
     },
     "execution_count": 4,
     "metadata": {},
     "output_type": "execute_result"
    },
    {
     "data": {
      "image/png": "[encoded data removed]",
      "text/plain": [
       "<Figure size 640x480 with 1 Axes>"
      ]
     },
     "metadata": {},
     "output_type": "display_data"
    }
   ],
   "source": [
    "fig = df[\"Sex\"].value_counts().plot(kind='pie',autopct='%f1.1%%')\n",
    "fig.set_title(\"Male vs Female Count\")"
   ]
  },
  {
   "attachments": {},
   "cell_type": "markdown",
   "metadata": {},
   "source": [
    "We can see it is fairly balanced data with, male only slightly more than female"
   ]
  },
  {
   "cell_type": "code",
   "execution_count": 5,
   "metadata": {},
   "outputs": [
    {
     "data": {
      "text/plain": [
       "Text(0.5, 1.0, 'Treatment for Hypertension')"
      ]
     },
     "execution_count": 5,
     "metadata": {},
     "output_type": "execute_result"
    },
    {
     "data": {
      "image/png": "[encoded data removed]",
      "text/plain": [
       "<Figure size 640x480 with 1 Axes>"
      ]
     },
     "metadata": {},
     "output_type": "display_data"
    }
   ],
   "source": [
    "fig = df[\"Treatment for Hypertension\"].value_counts().plot(kind='pie',autopct='%f1.1%%')\n",
    "fig.set_title(\"Treatment for Hypertension\")"
   ]
  },
  {
   "attachments": {},
   "cell_type": "markdown",
   "metadata": {},
   "source": [
    "We can see that people treating hypertension are just slightly more than people not treating hypertension."
   ]
  },
  {
   "cell_type": "code",
   "execution_count": 6,
   "metadata": {},
   "outputs": [
    {
     "data": {
      "text/plain": [
       "Text(0.5, 1.0, 'People Who Smoke?')"
      ]
     },
     "execution_count": 6,
     "metadata": {},
     "output_type": "execute_result"
    },
    {
     "data": {
      "image/png": "[encoded data removed]",
      "text/plain": [
       "<Figure size 640x480 with 1 Axes>"
      ]
     },
     "metadata": {},
     "output_type": "display_data"
    }
   ],
   "source": [
    "fig = df[\"Current Smoker\"].value_counts().plot(kind='pie',autopct='%f1.1%%')\n",
    "fig.set_title(\"People Who Smoke?\")"
   ]
  },
  {
   "attachments": {},
   "cell_type": "markdown",
   "metadata": {},
   "source": [
    "We can see that smokers are fairly balanced and just slightly more than non smokers"
   ]
  },
  {
   "cell_type": "code",
   "execution_count": 7,
   "metadata": {},
   "outputs": [
    {
     "data": {
      "text/plain": [
       "Text(0.5, 1.0, 'People With Diabetes')"
      ]
     },
     "execution_count": 7,
     "metadata": {},
     "output_type": "execute_result"
    },
    {
     "data": {
      "image/png": "[encoded data removed]",
      "text/plain": [
       "<Figure size 640x480 with 1 Axes>"
      ]
     },
     "metadata": {},
     "output_type": "display_data"
    }
   ],
   "source": [
    "fig = df[\"Diabetes\"].value_counts().plot(kind='pie',autopct='%f1.1%%')\n",
    "fig.set_title(\"People With Diabetes\")"
   ]
  },
  {
   "attachments": {},
   "cell_type": "markdown",
   "metadata": {},
   "source": [
    "We can see that diabetes also has balanced data.\n",
    "\n",
    "**From all above categorical data charts, we can see all categorical data are fairly balanced with very slight skew towards positive side** "
   ]
  },
  {
   "cell_type": "code",
   "execution_count": 8,
   "metadata": {},
   "outputs": [
    {
     "data": {
      "text/plain": [
       "<AxesSubplot: title={'center': 'Most Dangerous Age Group'}>"
      ]
     },
     "execution_count": 8,
     "metadata": {},
     "output_type": "execute_result"
    },
    {
     "data": {
      "image/png": "[encoded data removed]",
      "text/plain": [
       "<Figure size 640x480 with 1 Axes>"
      ]
     },
     "metadata": {},
     "output_type": "display_data"
    }
   ],
   "source": [
    "df_HighRisk = df[df['Risk']=='High Risk (≥20%)']\n",
    "df_HighRisk['Age'].value_counts().head().plot(kind='bar',title='Most Dangerous Age Group')"
   ]
  },
  {
   "attachments": {},
   "cell_type": "markdown",
   "metadata": {},
   "source": [
    "From above graph we can see that with age increases the risk factor"
   ]
  },
  {
   "cell_type": "code",
   "execution_count": 9,
   "metadata": {},
   "outputs": [
    {
     "data": {
      "text/plain": [
       "<AxesSubplot: title={'center': 'High risk in Currently smoking'}>"
      ]
     },
     "execution_count": 9,
     "metadata": {},
     "output_type": "execute_result"
    },
    {
     "data": {
      "image/png": "[encoded data removed]",
      "text/plain": [
       "<Figure size 640x480 with 1 Axes>"
      ]
     },
     "metadata": {},
     "output_type": "display_data"
    }
   ],
   "source": [
    "df_HighRisk['Current Smoker'].value_counts().plot(kind='bar',title='High risk in Currently smoking')"
   ]
  },
  {
   "attachments": {},
   "cell_type": "markdown",
   "metadata": {},
   "source": [
    "We can now see smoking significantly increases the Risk"
   ]
  },
  {
   "cell_type": "code",
   "execution_count": 10,
   "metadata": {},
   "outputs": [
    {
     "data": {
      "text/plain": [
       "Sex                            object\n",
       "Age                           float64\n",
       "SBP(mmHg)                     float64\n",
       "Treatment for Hypertension     object\n",
       "Current Smoker                 object\n",
       "Diabetes                       object\n",
       "HDL                           float64\n",
       "TCL                             int64\n",
       "Risk                           object\n",
       "dtype: object"
      ]
     },
     "execution_count": 10,
     "metadata": {},
     "output_type": "execute_result"
    }
   ],
   "source": [
    "df.dtypes"
   ]
  },
  {
   "attachments": {},
   "cell_type": "markdown",
   "metadata": {},
   "source": [
    "Here we can see that columns : Sex, Treatment for Hypertension,Current Smoker, Diabetes are all categorical data. To get insights about Numeric data we can see the table below."
   ]
  },
  {
   "cell_type": "code",
   "execution_count": 11,
   "metadata": {},
   "outputs": [
    {
     "data": {
      "text/html": [
       "<div>\n",
       "<style scoped>\n",
       "    .dataframe tbody tr th:only-of-type {\n",
       "        vertical-align: middle;\n",
       "    }\n",
       "\n",
       "    .dataframe tbody tr th {\n",
       "        vertical-align: top;\n",
       "    }\n",
       "\n",
       "    .dataframe thead th {\n",
       "        text-align: right;\n",
       "    }\n",
       "</style>\n",
       "<table border=\"1\" class=\"dataframe\">\n",
       "  <thead>\n",
       "    <tr style=\"text-align: right;\">\n",
       "      <th></th>\n",
       "      <th>Age</th>\n",
       "      <th>SBP(mmHg)</th>\n",
       "      <th>HDL</th>\n",
       "      <th>TCL</th>\n",
       "    </tr>\n",
       "  </thead>\n",
       "  <tbody>\n",
       "    <tr>\n",
       "      <th>count</th>\n",
       "      <td>10115.000000</td>\n",
       "      <td>10108.000000</td>\n",
       "      <td>10111.000000</td>\n",
       "      <td>10115.000000</td>\n",
       "    </tr>\n",
       "    <tr>\n",
       "      <th>mean</th>\n",
       "      <td>52.034909</td>\n",
       "      <td>144.332509</td>\n",
       "      <td>54.415884</td>\n",
       "      <td>252.418784</td>\n",
       "    </tr>\n",
       "    <tr>\n",
       "      <th>std</th>\n",
       "      <td>13.220314</td>\n",
       "      <td>32.808181</td>\n",
       "      <td>26.281776</td>\n",
       "      <td>88.201082</td>\n",
       "    </tr>\n",
       "    <tr>\n",
       "      <th>min</th>\n",
       "      <td>-74.000000</td>\n",
       "      <td>22.000000</td>\n",
       "      <td>10.000000</td>\n",
       "      <td>100.000000</td>\n",
       "    </tr>\n",
       "    <tr>\n",
       "      <th>25%</th>\n",
       "      <td>41.000000</td>\n",
       "      <td>117.000000</td>\n",
       "      <td>32.000000</td>\n",
       "      <td>177.000000</td>\n",
       "    </tr>\n",
       "    <tr>\n",
       "      <th>50%</th>\n",
       "      <td>52.000000</td>\n",
       "      <td>144.000000</td>\n",
       "      <td>53.000000</td>\n",
       "      <td>250.000000</td>\n",
       "    </tr>\n",
       "    <tr>\n",
       "      <th>75%</th>\n",
       "      <td>63.000000</td>\n",
       "      <td>173.000000</td>\n",
       "      <td>77.000000</td>\n",
       "      <td>329.000000</td>\n",
       "    </tr>\n",
       "    <tr>\n",
       "      <th>max</th>\n",
       "      <td>170.000000</td>\n",
       "      <td>200.000000</td>\n",
       "      <td>100.000000</td>\n",
       "      <td>405.000000</td>\n",
       "    </tr>\n",
       "  </tbody>\n",
       "</table>\n",
       "</div>"
      ],
      "text/plain": [
       "                Age     SBP(mmHg)           HDL           TCL\n",
       "count  10115.000000  10108.000000  10111.000000  10115.000000\n",
       "mean      52.034909    144.332509     54.415884    252.418784\n",
       "std       13.220314     32.808181     26.281776     88.201082\n",
       "min      -74.000000     22.000000     10.000000    100.000000\n",
       "25%       41.000000    117.000000     32.000000    177.000000\n",
       "50%       52.000000    144.000000     53.000000    250.000000\n",
       "75%       63.000000    173.000000     77.000000    329.000000\n",
       "max      170.000000    200.000000    100.000000    405.000000"
      ]
     },
     "execution_count": 11,
     "metadata": {},
     "output_type": "execute_result"
    }
   ],
   "source": [
    "df.describe()"
   ]
  },
  {
   "attachments": {},
   "cell_type": "markdown",
   "metadata": {},
   "source": [
    "We can see that SBP and HDL have null values as thier counts are lower than others"
   ]
  },
  {
   "attachments": {},
   "cell_type": "markdown",
   "metadata": {},
   "source": [
    "## Null Data Detection and Removal"
   ]
  },
  {
   "attachments": {},
   "cell_type": "markdown",
   "metadata": {},
   "source": [
    "### Checking for null data"
   ]
  },
  {
   "cell_type": "code",
   "execution_count": 12,
   "metadata": {},
   "outputs": [
    {
     "name": "stdout",
     "output_type": "stream",
     "text": [
      "Sex                           False\n",
      "Age                           False\n",
      "SBP(mmHg)                      True\n",
      "Treatment for Hypertension    False\n",
      "Current Smoker                False\n",
      "Diabetes                      False\n",
      "HDL                            True\n",
      "TCL                           False\n",
      "Risk                          False\n",
      "dtype: bool\n",
      "Count of null values\n",
      "Sex                           0\n",
      "Age                           0\n",
      "SBP(mmHg)                     7\n",
      "Treatment for Hypertension    0\n",
      "Current Smoker                0\n",
      "Diabetes                      0\n",
      "HDL                           4\n",
      "TCL                           0\n",
      "Risk                          0\n",
      "dtype: int64\n"
     ]
    }
   ],
   "source": [
    "print(df.isna().any())\n",
    "print(\"Count of null values\")\n",
    "print(df.isna().sum())"
   ]
  },
  {
   "attachments": {},
   "cell_type": "markdown",
   "metadata": {},
   "source": [
    "We can see that two columns SBP and HDL contains null  values, lets explore  further."
   ]
  },
  {
   "attachments": {},
   "cell_type": "markdown",
   "metadata": {},
   "source": [
    "We can fill both as they both are numeric values, so we can fill the non available or null data by mean"
   ]
  },
  {
   "cell_type": "code",
   "execution_count": 13,
   "metadata": {},
   "outputs": [],
   "source": [
    "df[\"HDL\"] = df[\"HDL\"].fillna(df[\"HDL\"].mean())\n",
    "df[\"SBP(mmHg)\"]=df[\"SBP(mmHg)\"].fillna(df[\"SBP(mmHg)\"].mean())"
   ]
  },
  {
   "cell_type": "code",
   "execution_count": 14,
   "metadata": {},
   "outputs": [
    {
     "name": "stdout",
     "output_type": "stream",
     "text": [
      "Sex                           False\n",
      "Age                           False\n",
      "SBP(mmHg)                     False\n",
      "Treatment for Hypertension    False\n",
      "Current Smoker                False\n",
      "Diabetes                      False\n",
      "HDL                           False\n",
      "TCL                           False\n",
      "Risk                          False\n",
      "dtype: bool\n",
      "Count of null values\n",
      "Sex                           0\n",
      "Age                           0\n",
      "SBP(mmHg)                     0\n",
      "Treatment for Hypertension    0\n",
      "Current Smoker                0\n",
      "Diabetes                      0\n",
      "HDL                           0\n",
      "TCL                           0\n",
      "Risk                          0\n",
      "dtype: int64\n"
     ]
    }
   ],
   "source": [
    "print(df.isna().any())\n",
    "print(\"Count of null values\")\n",
    "print(df.isna().sum())"
   ]
  },
  {
   "attachments": {},
   "cell_type": "markdown",
   "metadata": {},
   "source": [
    "Now our data contains no null values"
   ]
  },
  {
   "attachments": {},
   "cell_type": "markdown",
   "metadata": {},
   "source": [
    "## Outlier Detection and Removal"
   ]
  },
  {
   "cell_type": "code",
   "execution_count": 15,
   "metadata": {},
   "outputs": [
    {
     "data": {
      "text/plain": [
       "<AxesSubplot: >"
      ]
     },
     "execution_count": 15,
     "metadata": {},
     "output_type": "execute_result"
    },
    {
     "data": {
      "image/png": "[encoded data removed]",
      "text/plain": [
       "<Figure size 640x480 with 1 Axes>"
      ]
     },
     "metadata": {},
     "output_type": "display_data"
    }
   ],
   "source": [
    "df.boxplot()"
   ]
  },
  {
   "attachments": {},
   "cell_type": "markdown",
   "metadata": {},
   "source": [
    "We can from boxplots see that Age and SBP may have outlier values"
   ]
  },
  {
   "cell_type": "code",
   "execution_count": 16,
   "metadata": {},
   "outputs": [
    {
     "data": {
      "text/plain": [
       "<AxesSubplot: >"
      ]
     },
     "execution_count": 16,
     "metadata": {},
     "output_type": "execute_result"
    },
    {
     "data": {
      "image/png": "[encoded data removed]",
      "text/plain": [
       "<Figure size 640x480 with 1 Axes>"
      ]
     },
     "metadata": {},
     "output_type": "display_data"
    }
   ],
   "source": [
    "df[\"SBP(mmHg)\"].plot(kind='box')"
   ]
  },
  {
   "cell_type": "code",
   "execution_count": 17,
   "metadata": {},
   "outputs": [
    {
     "data": {
      "text/plain": [
       "count    10115.000000\n",
       "mean        52.034909\n",
       "std         13.220314\n",
       "min        -74.000000\n",
       "25%         41.000000\n",
       "50%         52.000000\n",
       "75%         63.000000\n",
       "max        170.000000\n",
       "Name: Age, dtype: float64"
      ]
     },
     "execution_count": 17,
     "metadata": {},
     "output_type": "execute_result"
    }
   ],
   "source": [
    "df[\"Age\"].describe()"
   ]
  },
  {
   "attachments": {},
   "cell_type": "markdown",
   "metadata": {},
   "source": [
    "We can see that the minimum value is -74 and as age can never be negative we can drop it, and maximum age was 170 and we can drop age greater than 125."
   ]
  },
  {
   "cell_type": "code",
   "execution_count": 18,
   "metadata": {},
   "outputs": [],
   "source": [
    "df = df[(df[\"Age\"] > 0 ) & (df[\"Age\"] < 125)]"
   ]
  },
  {
   "cell_type": "code",
   "execution_count": 19,
   "metadata": {},
   "outputs": [
    {
     "data": {
      "text/plain": [
       "<AxesSubplot: >"
      ]
     },
     "execution_count": 19,
     "metadata": {},
     "output_type": "execute_result"
    },
    {
     "data": {
      "image/png": "[encoded data removed]",
      "text/plain": [
       "<Figure size 640x480 with 1 Axes>"
      ]
     },
     "metadata": {},
     "output_type": "display_data"
    }
   ],
   "source": [
    "df.boxplot()"
   ]
  },
  {
   "attachments": {},
   "cell_type": "markdown",
   "metadata": {},
   "source": [
    "I did not remove the supposed outliers from SBP because they are quite close to the other values."
   ]
  },
  {
   "attachments": {},
   "cell_type": "markdown",
   "metadata": {},
   "source": [
    "Looking into Correaltion of the data"
   ]
  },
  {
   "cell_type": "code",
   "execution_count": 20,
   "metadata": {},
   "outputs": [
    {
     "data": {
      "text/plain": [
       "<AxesSubplot: >"
      ]
     },
     "execution_count": 20,
     "metadata": {},
     "output_type": "execute_result"
    },
    {
     "data": {
      "image/png": "[encoded data removed]",
      "text/plain": [
       "<Figure size 640x480 with 2 Axes>"
      ]
     },
     "metadata": {},
     "output_type": "display_data"
    }
   ],
   "source": [
    "sns.heatmap(df.corr(numeric_only=True),annot=True)"
   ]
  },
  {
   "attachments": {},
   "cell_type": "markdown",
   "metadata": {},
   "source": [
    "We can see that there is little to no correlation in the numeric data, so we will encode the data to get more insights"
   ]
  },
  {
   "attachments": {},
   "cell_type": "markdown",
   "metadata": {},
   "source": [
    "## Encoding and Standardization"
   ]
  },
  {
   "attachments": {},
   "cell_type": "markdown",
   "metadata": {},
   "source": [
    "The value of \"Current Smoker\",\"Diabetes\",\"Treatment for Hypertension\" affects the value of our Target value, so we label encode it"
   ]
  },
  {
   "cell_type": "code",
   "execution_count": 21,
   "metadata": {},
   "outputs": [],
   "source": [
    "label_encoder = LabelEncoder()\n",
    "\n",
    "cols = [\"Current Smoker\",\"Diabetes\",\"Treatment for Hypertension\"] \n",
    "df[cols] = df[cols].apply(label_encoder.fit_transform)"
   ]
  },
  {
   "cell_type": "code",
   "execution_count": 22,
   "metadata": {},
   "outputs": [
    {
     "data": {
      "text/html": [
       "<div>\n",
       "<style scoped>\n",
       "    .dataframe tbody tr th:only-of-type {\n",
       "        vertical-align: middle;\n",
       "    }\n",
       "\n",
       "    .dataframe tbody tr th {\n",
       "        vertical-align: top;\n",
       "    }\n",
       "\n",
       "    .dataframe thead th {\n",
       "        text-align: right;\n",
       "    }\n",
       "</style>\n",
       "<table border=\"1\" class=\"dataframe\">\n",
       "  <thead>\n",
       "    <tr style=\"text-align: right;\">\n",
       "      <th></th>\n",
       "      <th>Sex</th>\n",
       "      <th>Age</th>\n",
       "      <th>SBP(mmHg)</th>\n",
       "      <th>Treatment for Hypertension</th>\n",
       "      <th>Current Smoker</th>\n",
       "      <th>Diabetes</th>\n",
       "      <th>HDL</th>\n",
       "      <th>TCL</th>\n",
       "      <th>Risk</th>\n",
       "    </tr>\n",
       "  </thead>\n",
       "  <tbody>\n",
       "    <tr>\n",
       "      <th>0</th>\n",
       "      <td>Female</td>\n",
       "      <td>74.0</td>\n",
       "      <td>113.000000</td>\n",
       "      <td>1</td>\n",
       "      <td>1</td>\n",
       "      <td>0</td>\n",
       "      <td>66.0</td>\n",
       "      <td>135</td>\n",
       "      <td>Intermediate Risk (≥7.5% - &lt;20%)</td>\n",
       "    </tr>\n",
       "    <tr>\n",
       "      <th>1</th>\n",
       "      <td>Male</td>\n",
       "      <td>69.0</td>\n",
       "      <td>93.000000</td>\n",
       "      <td>0</td>\n",
       "      <td>0</td>\n",
       "      <td>1</td>\n",
       "      <td>48.0</td>\n",
       "      <td>374</td>\n",
       "      <td>High Risk (≥20%)</td>\n",
       "    </tr>\n",
       "    <tr>\n",
       "      <th>2</th>\n",
       "      <td>Female</td>\n",
       "      <td>43.0</td>\n",
       "      <td>94.000000</td>\n",
       "      <td>0</td>\n",
       "      <td>0</td>\n",
       "      <td>0</td>\n",
       "      <td>83.0</td>\n",
       "      <td>315</td>\n",
       "      <td>Low Risk (&lt;5%)</td>\n",
       "    </tr>\n",
       "    <tr>\n",
       "      <th>3</th>\n",
       "      <td>Female</td>\n",
       "      <td>63.0</td>\n",
       "      <td>140.000000</td>\n",
       "      <td>0</td>\n",
       "      <td>1</td>\n",
       "      <td>1</td>\n",
       "      <td>14.0</td>\n",
       "      <td>195</td>\n",
       "      <td>High Risk (≥20%)</td>\n",
       "    </tr>\n",
       "    <tr>\n",
       "      <th>4</th>\n",
       "      <td>Female</td>\n",
       "      <td>67.0</td>\n",
       "      <td>144.332509</td>\n",
       "      <td>1</td>\n",
       "      <td>0</td>\n",
       "      <td>1</td>\n",
       "      <td>34.0</td>\n",
       "      <td>275</td>\n",
       "      <td>High Risk (≥20%)</td>\n",
       "    </tr>\n",
       "  </tbody>\n",
       "</table>\n",
       "</div>"
      ],
      "text/plain": [
       "      Sex   Age   SBP(mmHg)  Treatment for Hypertension  Current Smoker  \\\n",
       "0  Female  74.0  113.000000                           1               1   \n",
       "1    Male  69.0   93.000000                           0               0   \n",
       "2  Female  43.0   94.000000                           0               0   \n",
       "3  Female  63.0  140.000000                           0               1   \n",
       "4  Female  67.0  144.332509                           1               0   \n",
       "\n",
       "   Diabetes   HDL  TCL                              Risk  \n",
       "0         0  66.0  135  Intermediate Risk (≥7.5% - <20%)  \n",
       "1         1  48.0  374                  High Risk (≥20%)  \n",
       "2         0  83.0  315                    Low Risk (<5%)  \n",
       "3         1  14.0  195                  High Risk (≥20%)  \n",
       "4         1  34.0  275                  High Risk (≥20%)  "
      ]
     },
     "execution_count": 22,
     "metadata": {},
     "output_type": "execute_result"
    }
   ],
   "source": [
    "df.head()"
   ]
  },
  {
   "attachments": {},
   "cell_type": "markdown",
   "metadata": {},
   "source": [
    "Looking at the correlation after encoding"
   ]
  },
  {
   "cell_type": "code",
   "execution_count": 23,
   "metadata": {},
   "outputs": [
    {
     "data": {
      "text/plain": [
       "<AxesSubplot: >"
      ]
     },
     "execution_count": 23,
     "metadata": {},
     "output_type": "execute_result"
    },
    {
     "data": {
      "image/png": "[encoded data removed]",
      "text/plain": [
       "<Figure size 640x480 with 2 Axes>"
      ]
     },
     "metadata": {},
     "output_type": "display_data"
    }
   ],
   "source": [
    "sns.heatmap(df.corr(numeric_only=True),annot=True)"
   ]
  },
  {
   "attachments": {},
   "cell_type": "markdown",
   "metadata": {},
   "source": [
    "From the given heatmap, we can see that Risk has comparitively significant negative correlation with SBP,TCL and Age, meaning lesser the Age,TCL and SBP, lesser the risk.\n",
    "And comparitively significant positive correlation with HDL, so as HDL increases risk also increases"
   ]
  },
  {
   "attachments": {},
   "cell_type": "markdown",
   "metadata": {},
   "source": [
    "The gender of the person is not the cause of heart risk, so we want our weights to be not influenced by the encoding of gender so we One hot encode it."
   ]
  },
  {
   "cell_type": "code",
   "execution_count": 24,
   "metadata": {},
   "outputs": [],
   "source": [
    "one_hot = OneHotEncoder()\n",
    "transformed_data = one_hot.fit_transform(df[['Sex']]).toarray()\n",
    "feature_array = (one_hot.categories_)\n",
    "df[feature_array[0]] = transformed_data\n",
    "df =df.drop(['Sex'],axis=1)\n"
   ]
  },
  {
   "cell_type": "code",
   "execution_count": 25,
   "metadata": {},
   "outputs": [
    {
     "data": {
      "text/html": [
       "<div>\n",
       "<style scoped>\n",
       "    .dataframe tbody tr th:only-of-type {\n",
       "        vertical-align: middle;\n",
       "    }\n",
       "\n",
       "    .dataframe tbody tr th {\n",
       "        vertical-align: top;\n",
       "    }\n",
       "\n",
       "    .dataframe thead th {\n",
       "        text-align: right;\n",
       "    }\n",
       "</style>\n",
       "<table border=\"1\" class=\"dataframe\">\n",
       "  <thead>\n",
       "    <tr style=\"text-align: right;\">\n",
       "      <th></th>\n",
       "      <th>Age</th>\n",
       "      <th>SBP(mmHg)</th>\n",
       "      <th>Treatment for Hypertension</th>\n",
       "      <th>Current Smoker</th>\n",
       "      <th>Diabetes</th>\n",
       "      <th>HDL</th>\n",
       "      <th>TCL</th>\n",
       "      <th>Risk</th>\n",
       "      <th>Female</th>\n",
       "      <th>Male</th>\n",
       "    </tr>\n",
       "  </thead>\n",
       "  <tbody>\n",
       "    <tr>\n",
       "      <th>0</th>\n",
       "      <td>74.0</td>\n",
       "      <td>113.000000</td>\n",
       "      <td>1</td>\n",
       "      <td>1</td>\n",
       "      <td>0</td>\n",
       "      <td>66.0</td>\n",
       "      <td>135</td>\n",
       "      <td>Intermediate Risk (≥7.5% - &lt;20%)</td>\n",
       "      <td>1.0</td>\n",
       "      <td>0.0</td>\n",
       "    </tr>\n",
       "    <tr>\n",
       "      <th>1</th>\n",
       "      <td>69.0</td>\n",
       "      <td>93.000000</td>\n",
       "      <td>0</td>\n",
       "      <td>0</td>\n",
       "      <td>1</td>\n",
       "      <td>48.0</td>\n",
       "      <td>374</td>\n",
       "      <td>High Risk (≥20%)</td>\n",
       "      <td>0.0</td>\n",
       "      <td>1.0</td>\n",
       "    </tr>\n",
       "    <tr>\n",
       "      <th>2</th>\n",
       "      <td>43.0</td>\n",
       "      <td>94.000000</td>\n",
       "      <td>0</td>\n",
       "      <td>0</td>\n",
       "      <td>0</td>\n",
       "      <td>83.0</td>\n",
       "      <td>315</td>\n",
       "      <td>Low Risk (&lt;5%)</td>\n",
       "      <td>1.0</td>\n",
       "      <td>0.0</td>\n",
       "    </tr>\n",
       "    <tr>\n",
       "      <th>3</th>\n",
       "      <td>63.0</td>\n",
       "      <td>140.000000</td>\n",
       "      <td>0</td>\n",
       "      <td>1</td>\n",
       "      <td>1</td>\n",
       "      <td>14.0</td>\n",
       "      <td>195</td>\n",
       "      <td>High Risk (≥20%)</td>\n",
       "      <td>1.0</td>\n",
       "      <td>0.0</td>\n",
       "    </tr>\n",
       "    <tr>\n",
       "      <th>4</th>\n",
       "      <td>67.0</td>\n",
       "      <td>144.332509</td>\n",
       "      <td>1</td>\n",
       "      <td>0</td>\n",
       "      <td>1</td>\n",
       "      <td>34.0</td>\n",
       "      <td>275</td>\n",
       "      <td>High Risk (≥20%)</td>\n",
       "      <td>1.0</td>\n",
       "      <td>0.0</td>\n",
       "    </tr>\n",
       "  </tbody>\n",
       "</table>\n",
       "</div>"
      ],
      "text/plain": [
       "    Age   SBP(mmHg)  Treatment for Hypertension  Current Smoker  Diabetes  \\\n",
       "0  74.0  113.000000                           1               1         0   \n",
       "1  69.0   93.000000                           0               0         1   \n",
       "2  43.0   94.000000                           0               0         0   \n",
       "3  63.0  140.000000                           0               1         1   \n",
       "4  67.0  144.332509                           1               0         1   \n",
       "\n",
       "    HDL  TCL                              Risk  Female  Male  \n",
       "0  66.0  135  Intermediate Risk (≥7.5% - <20%)     1.0   0.0  \n",
       "1  48.0  374                  High Risk (≥20%)     0.0   1.0  \n",
       "2  83.0  315                    Low Risk (<5%)     1.0   0.0  \n",
       "3  14.0  195                  High Risk (≥20%)     1.0   0.0  \n",
       "4  34.0  275                  High Risk (≥20%)     1.0   0.0  "
      ]
     },
     "execution_count": 25,
     "metadata": {},
     "output_type": "execute_result"
    }
   ],
   "source": [
    "df.head()"
   ]
  },
  {
   "cell_type": "code",
   "execution_count": 26,
   "metadata": {},
   "outputs": [],
   "source": [
    "df = df.astype({'Age': 'int', 'HDL': 'int'})"
   ]
  },
  {
   "attachments": {},
   "cell_type": "markdown",
   "metadata": {},
   "source": [
    "Splitting the Target variables and the feature variables"
   ]
  },
  {
   "cell_type": "code",
   "execution_count": 27,
   "metadata": {},
   "outputs": [],
   "source": [
    "df_x = df.drop(['Risk'],axis=1)\n",
    "df_y= df['Risk']"
   ]
  },
  {
   "attachments": {},
   "cell_type": "markdown",
   "metadata": {},
   "source": [
    "Standardization"
   ]
  },
  {
   "cell_type": "code",
   "execution_count": 28,
   "metadata": {},
   "outputs": [],
   "source": [
    "stand = StandardScaler()\n",
    "df_x = stand.fit_transform(df_x)"
   ]
  },
  {
   "attachments": {},
   "cell_type": "markdown",
   "metadata": {},
   "source": [
    "## Setting up Testing Data"
   ]
  },
  {
   "attachments": {},
   "cell_type": "markdown",
   "metadata": {},
   "source": [
    "Getting the data"
   ]
  },
  {
   "cell_type": "code",
   "execution_count": 29,
   "metadata": {},
   "outputs": [
    {
     "data": {
      "text/html": [
       "<div>\n",
       "<style scoped>\n",
       "    .dataframe tbody tr th:only-of-type {\n",
       "        vertical-align: middle;\n",
       "    }\n",
       "\n",
       "    .dataframe tbody tr th {\n",
       "        vertical-align: top;\n",
       "    }\n",
       "\n",
       "    .dataframe thead th {\n",
       "        text-align: right;\n",
       "    }\n",
       "</style>\n",
       "<table border=\"1\" class=\"dataframe\">\n",
       "  <thead>\n",
       "    <tr style=\"text-align: right;\">\n",
       "      <th></th>\n",
       "      <th>Sex</th>\n",
       "      <th>Age</th>\n",
       "      <th>SBP(mmHg)</th>\n",
       "      <th>Treatment for Hypertension</th>\n",
       "      <th>Current Smoker</th>\n",
       "      <th>Diabetes</th>\n",
       "      <th>HDL</th>\n",
       "      <th>TCL</th>\n",
       "      <th>Risk</th>\n",
       "    </tr>\n",
       "  </thead>\n",
       "  <tbody>\n",
       "    <tr>\n",
       "      <th>0</th>\n",
       "      <td>Male</td>\n",
       "      <td>67</td>\n",
       "      <td>97</td>\n",
       "      <td>No</td>\n",
       "      <td>No</td>\n",
       "      <td>Yes</td>\n",
       "      <td>32</td>\n",
       "      <td>379</td>\n",
       "      <td>High Risk (≥20%)</td>\n",
       "    </tr>\n",
       "    <tr>\n",
       "      <th>1</th>\n",
       "      <td>Male</td>\n",
       "      <td>38</td>\n",
       "      <td>102</td>\n",
       "      <td>Yes</td>\n",
       "      <td>Yes</td>\n",
       "      <td>Yes</td>\n",
       "      <td>16</td>\n",
       "      <td>228</td>\n",
       "      <td>High Risk (≥20%)</td>\n",
       "    </tr>\n",
       "    <tr>\n",
       "      <th>2</th>\n",
       "      <td>Female</td>\n",
       "      <td>53</td>\n",
       "      <td>109</td>\n",
       "      <td>Yes</td>\n",
       "      <td>No</td>\n",
       "      <td>Yes</td>\n",
       "      <td>13</td>\n",
       "      <td>180</td>\n",
       "      <td>Intermediate Risk (≥7.5% - &lt;20%)</td>\n",
       "    </tr>\n",
       "    <tr>\n",
       "      <th>3</th>\n",
       "      <td>Male</td>\n",
       "      <td>73</td>\n",
       "      <td>137</td>\n",
       "      <td>Yes</td>\n",
       "      <td>Yes</td>\n",
       "      <td>Yes</td>\n",
       "      <td>39</td>\n",
       "      <td>145</td>\n",
       "      <td>High Risk (≥20%)</td>\n",
       "    </tr>\n",
       "    <tr>\n",
       "      <th>4</th>\n",
       "      <td>Female</td>\n",
       "      <td>72</td>\n",
       "      <td>182</td>\n",
       "      <td>No</td>\n",
       "      <td>Yes</td>\n",
       "      <td>Yes</td>\n",
       "      <td>76</td>\n",
       "      <td>230</td>\n",
       "      <td>High Risk (≥20%)</td>\n",
       "    </tr>\n",
       "  </tbody>\n",
       "</table>\n",
       "</div>"
      ],
      "text/plain": [
       "      Sex  Age  SBP(mmHg) Treatment for Hypertension Current Smoker Diabetes  \\\n",
       "0    Male   67         97                         No             No      Yes   \n",
       "1    Male   38        102                        Yes            Yes      Yes   \n",
       "2  Female   53        109                        Yes             No      Yes   \n",
       "3    Male   73        137                        Yes            Yes      Yes   \n",
       "4  Female   72        182                         No            Yes      Yes   \n",
       "\n",
       "   HDL  TCL                              Risk  \n",
       "0   32  379                  High Risk (≥20%)  \n",
       "1   16  228                  High Risk (≥20%)  \n",
       "2   13  180  Intermediate Risk (≥7.5% - <20%)  \n",
       "3   39  145                  High Risk (≥20%)  \n",
       "4   76  230                  High Risk (≥20%)  "
      ]
     },
     "execution_count": 29,
     "metadata": {},
     "output_type": "execute_result"
    }
   ],
   "source": [
    "test_df = pd.read_csv('../data/HeartStudy_test.csv')\n",
    "test_df.head()"
   ]
  },
  {
   "attachments": {},
   "cell_type": "markdown",
   "metadata": {},
   "source": [
    "Splitting Feature and Targets:"
   ]
  },
  {
   "cell_type": "code",
   "execution_count": 30,
   "metadata": {},
   "outputs": [],
   "source": [
    "test_df_x = test_df.drop(['Risk'],axis=1)\n",
    "test_df_y = test_df['Risk']"
   ]
  },
  {
   "attachments": {},
   "cell_type": "markdown",
   "metadata": {},
   "source": [
    "Encoding the Categorical Values:"
   ]
  },
  {
   "cell_type": "code",
   "execution_count": 31,
   "metadata": {},
   "outputs": [],
   "source": [
    "cols = [\"Current Smoker\",\"Diabetes\",\"Treatment for Hypertension\"]\n",
    "test_df_x[cols] = test_df_x[cols].apply(label_encoder.fit_transform)"
   ]
  },
  {
   "attachments": {},
   "cell_type": "markdown",
   "metadata": {},
   "source": [
    "One Hot Encoding Male Female:"
   ]
  },
  {
   "cell_type": "code",
   "execution_count": 32,
   "metadata": {},
   "outputs": [],
   "source": [
    "transformed_data = one_hot.fit_transform(test_df_x[['Sex']]).toarray()\n",
    "feature_array = (one_hot.categories_)\n",
    "\n",
    "test_df_x[feature_array[0]] = transformed_data\n",
    "test_df_x = test_df_x.drop('Sex',axis=1)"
   ]
  },
  {
   "attachments": {},
   "cell_type": "markdown",
   "metadata": {},
   "source": [
    "Standardization:"
   ]
  },
  {
   "cell_type": "code",
   "execution_count": 33,
   "metadata": {},
   "outputs": [],
   "source": [
    "test_df_x = stand.fit_transform(test_df_x)"
   ]
  },
  {
   "attachments": {},
   "cell_type": "markdown",
   "metadata": {},
   "source": [
    "## For testing: Using Library"
   ]
  },
  {
   "attachments": {},
   "cell_type": "markdown",
   "metadata": {},
   "source": [
    "#### Logistic Test"
   ]
  },
  {
   "cell_type": "code",
   "execution_count": 34,
   "metadata": {},
   "outputs": [],
   "source": [
    "log = LogisticRegression()\n",
    "log = log.fit(df_x,df_y)"
   ]
  },
  {
   "cell_type": "code",
   "execution_count": 35,
   "metadata": {},
   "outputs": [],
   "source": [
    "pred_y = log.predict(test_df_x)"
   ]
  },
  {
   "cell_type": "code",
   "execution_count": 36,
   "metadata": {},
   "outputs": [
    {
     "name": "stdout",
     "output_type": "stream",
     "text": [
      "The accuracy for Logistic regression(testing) is :  87.68233387358185\n"
     ]
    }
   ],
   "source": [
    "print(\"The accuracy for Logistic regression(testing) is : \", (accuracy_score(pred_y,test_df_y)*100))"
   ]
  },
  {
   "cell_type": "code",
   "execution_count": 37,
   "metadata": {},
   "outputs": [
    {
     "name": "stdout",
     "output_type": "stream",
     "text": [
      "\n",
      "Classification Report:\n",
      "                                   precision    recall  f1-score   support\n",
      "\n",
      "   Borderline Risk (>5% - <7.5%)       0.72      0.42      0.53        43\n",
      "                High Risk (≥20%)       0.91      0.95      0.93       300\n",
      "Intermediate Risk (≥7.5% - <20%)       0.83      0.83      0.83       192\n",
      "                  Low Risk (<5%)       0.90      0.95      0.92        82\n",
      "\n",
      "                        accuracy                           0.88       617\n",
      "                       macro avg       0.84      0.79      0.80       617\n",
      "                    weighted avg       0.87      0.88      0.87       617\n",
      "\n"
     ]
    }
   ],
   "source": [
    "print ('\\nClassification Report:\\n', classification_report(test_df_y, pred_y))"
   ]
  },
  {
   "attachments": {},
   "cell_type": "markdown",
   "metadata": {},
   "source": [
    "#### Descision Tree Test"
   ]
  },
  {
   "cell_type": "code",
   "execution_count": 38,
   "metadata": {},
   "outputs": [
    {
     "data": {
      "text/html": [
       "<div>\n",
       "<style scoped>\n",
       "    .dataframe tbody tr th:only-of-type {\n",
       "        vertical-align: middle;\n",
       "    }\n",
       "\n",
       "    .dataframe tbody tr th {\n",
       "        vertical-align: top;\n",
       "    }\n",
       "\n",
       "    .dataframe thead th {\n",
       "        text-align: right;\n",
       "    }\n",
       "</style>\n",
       "<table border=\"1\" class=\"dataframe\">\n",
       "  <thead>\n",
       "    <tr style=\"text-align: right;\">\n",
       "      <th></th>\n",
       "      <th>Age</th>\n",
       "      <th>SBP(mmHg)</th>\n",
       "      <th>Treatment for Hypertension</th>\n",
       "      <th>Current Smoker</th>\n",
       "      <th>Diabetes</th>\n",
       "      <th>HDL</th>\n",
       "      <th>TCL</th>\n",
       "      <th>Risk</th>\n",
       "      <th>Female</th>\n",
       "      <th>Male</th>\n",
       "    </tr>\n",
       "  </thead>\n",
       "  <tbody>\n",
       "    <tr>\n",
       "      <th>0</th>\n",
       "      <td>74</td>\n",
       "      <td>113.000000</td>\n",
       "      <td>1</td>\n",
       "      <td>1</td>\n",
       "      <td>0</td>\n",
       "      <td>66</td>\n",
       "      <td>135</td>\n",
       "      <td>Intermediate Risk (≥7.5% - &lt;20%)</td>\n",
       "      <td>1.0</td>\n",
       "      <td>0.0</td>\n",
       "    </tr>\n",
       "    <tr>\n",
       "      <th>1</th>\n",
       "      <td>69</td>\n",
       "      <td>93.000000</td>\n",
       "      <td>0</td>\n",
       "      <td>0</td>\n",
       "      <td>1</td>\n",
       "      <td>48</td>\n",
       "      <td>374</td>\n",
       "      <td>High Risk (≥20%)</td>\n",
       "      <td>0.0</td>\n",
       "      <td>1.0</td>\n",
       "    </tr>\n",
       "    <tr>\n",
       "      <th>2</th>\n",
       "      <td>43</td>\n",
       "      <td>94.000000</td>\n",
       "      <td>0</td>\n",
       "      <td>0</td>\n",
       "      <td>0</td>\n",
       "      <td>83</td>\n",
       "      <td>315</td>\n",
       "      <td>Low Risk (&lt;5%)</td>\n",
       "      <td>1.0</td>\n",
       "      <td>0.0</td>\n",
       "    </tr>\n",
       "    <tr>\n",
       "      <th>3</th>\n",
       "      <td>63</td>\n",
       "      <td>140.000000</td>\n",
       "      <td>0</td>\n",
       "      <td>1</td>\n",
       "      <td>1</td>\n",
       "      <td>14</td>\n",
       "      <td>195</td>\n",
       "      <td>High Risk (≥20%)</td>\n",
       "      <td>1.0</td>\n",
       "      <td>0.0</td>\n",
       "    </tr>\n",
       "    <tr>\n",
       "      <th>4</th>\n",
       "      <td>67</td>\n",
       "      <td>144.332509</td>\n",
       "      <td>1</td>\n",
       "      <td>0</td>\n",
       "      <td>1</td>\n",
       "      <td>34</td>\n",
       "      <td>275</td>\n",
       "      <td>High Risk (≥20%)</td>\n",
       "      <td>1.0</td>\n",
       "      <td>0.0</td>\n",
       "    </tr>\n",
       "    <tr>\n",
       "      <th>...</th>\n",
       "      <td>...</td>\n",
       "      <td>...</td>\n",
       "      <td>...</td>\n",
       "      <td>...</td>\n",
       "      <td>...</td>\n",
       "      <td>...</td>\n",
       "      <td>...</td>\n",
       "      <td>...</td>\n",
       "      <td>...</td>\n",
       "      <td>...</td>\n",
       "    </tr>\n",
       "    <tr>\n",
       "      <th>10110</th>\n",
       "      <td>40</td>\n",
       "      <td>107.000000</td>\n",
       "      <td>1</td>\n",
       "      <td>0</td>\n",
       "      <td>0</td>\n",
       "      <td>95</td>\n",
       "      <td>123</td>\n",
       "      <td>Low Risk (&lt;5%)</td>\n",
       "      <td>0.0</td>\n",
       "      <td>1.0</td>\n",
       "    </tr>\n",
       "    <tr>\n",
       "      <th>10111</th>\n",
       "      <td>57</td>\n",
       "      <td>186.000000</td>\n",
       "      <td>1</td>\n",
       "      <td>1</td>\n",
       "      <td>0</td>\n",
       "      <td>72</td>\n",
       "      <td>325</td>\n",
       "      <td>High Risk (≥20%)</td>\n",
       "      <td>1.0</td>\n",
       "      <td>0.0</td>\n",
       "    </tr>\n",
       "    <tr>\n",
       "      <th>10112</th>\n",
       "      <td>39</td>\n",
       "      <td>93.000000</td>\n",
       "      <td>0</td>\n",
       "      <td>1</td>\n",
       "      <td>0</td>\n",
       "      <td>87</td>\n",
       "      <td>347</td>\n",
       "      <td>Low Risk (&lt;5%)</td>\n",
       "      <td>1.0</td>\n",
       "      <td>0.0</td>\n",
       "    </tr>\n",
       "    <tr>\n",
       "      <th>10113</th>\n",
       "      <td>36</td>\n",
       "      <td>121.000000</td>\n",
       "      <td>1</td>\n",
       "      <td>1</td>\n",
       "      <td>0</td>\n",
       "      <td>84</td>\n",
       "      <td>197</td>\n",
       "      <td>Low Risk (&lt;5%)</td>\n",
       "      <td>1.0</td>\n",
       "      <td>0.0</td>\n",
       "    </tr>\n",
       "    <tr>\n",
       "      <th>10114</th>\n",
       "      <td>64</td>\n",
       "      <td>106.000000</td>\n",
       "      <td>0</td>\n",
       "      <td>1</td>\n",
       "      <td>1</td>\n",
       "      <td>47</td>\n",
       "      <td>391</td>\n",
       "      <td>High Risk (≥20%)</td>\n",
       "      <td>1.0</td>\n",
       "      <td>0.0</td>\n",
       "    </tr>\n",
       "  </tbody>\n",
       "</table>\n",
       "<p>10112 rows × 10 columns</p>\n",
       "</div>"
      ],
      "text/plain": [
       "       Age   SBP(mmHg)  Treatment for Hypertension  Current Smoker  Diabetes  \\\n",
       "0       74  113.000000                           1               1         0   \n",
       "1       69   93.000000                           0               0         1   \n",
       "2       43   94.000000                           0               0         0   \n",
       "3       63  140.000000                           0               1         1   \n",
       "4       67  144.332509                           1               0         1   \n",
       "...    ...         ...                         ...             ...       ...   \n",
       "10110   40  107.000000                           1               0         0   \n",
       "10111   57  186.000000                           1               1         0   \n",
       "10112   39   93.000000                           0               1         0   \n",
       "10113   36  121.000000                           1               1         0   \n",
       "10114   64  106.000000                           0               1         1   \n",
       "\n",
       "       HDL  TCL                              Risk  Female  Male  \n",
       "0       66  135  Intermediate Risk (≥7.5% - <20%)     1.0   0.0  \n",
       "1       48  374                  High Risk (≥20%)     0.0   1.0  \n",
       "2       83  315                    Low Risk (<5%)     1.0   0.0  \n",
       "3       14  195                  High Risk (≥20%)     1.0   0.0  \n",
       "4       34  275                  High Risk (≥20%)     1.0   0.0  \n",
       "...    ...  ...                               ...     ...   ...  \n",
       "10110   95  123                    Low Risk (<5%)     0.0   1.0  \n",
       "10111   72  325                  High Risk (≥20%)     1.0   0.0  \n",
       "10112   87  347                    Low Risk (<5%)     1.0   0.0  \n",
       "10113   84  197                    Low Risk (<5%)     1.0   0.0  \n",
       "10114   47  391                  High Risk (≥20%)     1.0   0.0  \n",
       "\n",
       "[10112 rows x 10 columns]"
      ]
     },
     "execution_count": 38,
     "metadata": {},
     "output_type": "execute_result"
    }
   ],
   "source": [
    "df"
   ]
  },
  {
   "cell_type": "code",
   "execution_count": 39,
   "metadata": {},
   "outputs": [
    {
     "name": "stdout",
     "output_type": "stream",
     "text": [
      "The accuracy for Descision Tree (testing) is :  90.76175040518638\n",
      "\n",
      "Classification Report:\n",
      "                                   precision    recall  f1-score   support\n",
      "\n",
      "   Borderline Risk (>5% - <7.5%)       0.72      0.72      0.72        43\n",
      "                High Risk (≥20%)       0.95      0.97      0.96       300\n",
      "Intermediate Risk (≥7.5% - <20%)       0.88      0.87      0.88       192\n",
      "                  Low Risk (<5%)       0.91      0.85      0.88        82\n",
      "\n",
      "                        accuracy                           0.91       617\n",
      "                       macro avg       0.87      0.85      0.86       617\n",
      "                    weighted avg       0.91      0.91      0.91       617\n",
      "\n"
     ]
    }
   ],
   "source": [
    "tree = tree.DecisionTreeClassifier()\n",
    "tree = tree.fit(df_x,df_y)\n",
    "pred_y_tree = tree.predict(test_df_x)\n",
    "\n",
    "print(\"The accuracy for Descision Tree (testing) is : \", (accuracy_score(test_df_y,pred_y_tree)*100))\n",
    "print ('\\nClassification Report:\\n', classification_report(test_df_y,pred_y_tree))"
   ]
  },
  {
   "attachments": {},
   "cell_type": "markdown",
   "metadata": {},
   "source": [
    "#### SVM Test"
   ]
  },
  {
   "cell_type": "code",
   "execution_count": 40,
   "metadata": {},
   "outputs": [
    {
     "name": "stdout",
     "output_type": "stream",
     "text": [
      "The accuracy for SVM (testing) is :  97.40680713128039\n",
      "\n",
      "Classification Report:\n",
      "                                   precision    recall  f1-score   support\n",
      "\n",
      "   Borderline Risk (>5% - <7.5%)       0.88      0.88      0.88        43\n",
      "                High Risk (≥20%)       0.98      1.00      0.99       300\n",
      "Intermediate Risk (≥7.5% - <20%)       0.98      0.97      0.97       192\n",
      "                  Low Risk (<5%)       0.99      0.94      0.96        82\n",
      "\n",
      "                        accuracy                           0.97       617\n",
      "                       macro avg       0.96      0.95      0.95       617\n",
      "                    weighted avg       0.97      0.97      0.97       617\n",
      "\n"
     ]
    }
   ],
   "source": [
    "sv = svm.SVC(random_state=42)\n",
    "sv = sv.fit(df_x,df_y)\n",
    "\n",
    "pred_y_svm = sv.predict(test_df_x)\n",
    "\n",
    "print(\"The accuracy for SVM (testing) is : \", (accuracy_score(test_df_y,pred_y_svm)*100))\n",
    "print ('\\nClassification Report:\\n', classification_report(test_df_y,pred_y_svm))"
   ]
  },
  {
   "attachments": {},
   "cell_type": "markdown",
   "metadata": {},
   "source": [
    "## Self Implementation for Algorithm"
   ]
  },
  {
   "attachments": {},
   "cell_type": "markdown",
   "metadata": {},
   "source": [
    "Creating two model objects with different iterations for testing"
   ]
  },
  {
   "cell_type": "code",
   "execution_count": 41,
   "metadata": {},
   "outputs": [],
   "source": [
    "mcr = MultiLogistic(iteration=100)\n",
    "df_y_temp = label_encoder.fit_transform(df_y)\n",
    "mcr = mcr.fit(df_x,df_y_temp)"
   ]
  },
  {
   "cell_type": "code",
   "execution_count": 42,
   "metadata": {},
   "outputs": [],
   "source": [
    "mcr_2 = MultiLogistic(iteration=150)\n",
    "mcr_2 = mcr_2.fit(df_x,df_y_temp)"
   ]
  },
  {
   "attachments": {},
   "cell_type": "markdown",
   "metadata": {},
   "source": [
    "Fitting Both the models"
   ]
  },
  {
   "cell_type": "code",
   "execution_count": 43,
   "metadata": {},
   "outputs": [],
   "source": [
    "predictions = mcr.predict(test_df_x)\n",
    "predictions = label_encoder.inverse_transform(predictions)"
   ]
  },
  {
   "cell_type": "code",
   "execution_count": 44,
   "metadata": {},
   "outputs": [],
   "source": [
    "predictions_2 = mcr_2.predict(test_df_x)\n",
    "predictions_2 = label_encoder.inverse_transform(predictions_2)"
   ]
  },
  {
   "attachments": {},
   "cell_type": "markdown",
   "metadata": {},
   "source": [
    "Looking at the Classification report for both model\n",
    "\n",
    "Model 1"
   ]
  },
  {
   "cell_type": "code",
   "execution_count": 45,
   "metadata": {},
   "outputs": [
    {
     "name": "stdout",
     "output_type": "stream",
     "text": [
      "                                  precision    recall  f1-score   support\n",
      "\n",
      "   Borderline Risk (>5% - <7.5%)       1.00      0.00      0.00        43\n",
      "                High Risk (≥20%)       0.74      0.97      0.84       300\n",
      "Intermediate Risk (≥7.5% - <20%)       0.48      0.47      0.48       192\n",
      "                  Low Risk (<5%)       1.00      0.41      0.59        82\n",
      "\n",
      "                        accuracy                           0.67       617\n",
      "                       macro avg       0.81      0.46      0.48       617\n",
      "                    weighted avg       0.71      0.67      0.63       617\n",
      "\n"
     ]
    }
   ],
   "source": [
    "print(classification_report(test_df_y,predictions,zero_division=1))"
   ]
  },
  {
   "attachments": {},
   "cell_type": "markdown",
   "metadata": {},
   "source": [
    "Model 2"
   ]
  },
  {
   "cell_type": "code",
   "execution_count": 46,
   "metadata": {},
   "outputs": [
    {
     "name": "stdout",
     "output_type": "stream",
     "text": [
      "                                  precision    recall  f1-score   support\n",
      "\n",
      "   Borderline Risk (>5% - <7.5%)       1.00      0.00      0.00        43\n",
      "                High Risk (≥20%)       0.74      0.97      0.84       300\n",
      "Intermediate Risk (≥7.5% - <20%)       0.48      0.47      0.48       192\n",
      "                  Low Risk (<5%)       1.00      0.41      0.59        82\n",
      "\n",
      "                        accuracy                           0.67       617\n",
      "                       macro avg       0.81      0.46      0.48       617\n",
      "                    weighted avg       0.71      0.67      0.63       617\n",
      "\n"
     ]
    }
   ],
   "source": [
    "print(classification_report(test_df_y,predictions_2,zero_division=1))"
   ]
  },
  {
   "attachments": {},
   "cell_type": "markdown",
   "metadata": {},
   "source": [
    "ROC Scores and Confusion Matrix Heatmap for Models mcr and mcr2:"
   ]
  },
  {
   "attachments": {},
   "cell_type": "markdown",
   "metadata": {},
   "source": [
    "ROC Score for the first Model"
   ]
  },
  {
   "cell_type": "code",
   "execution_count": 47,
   "metadata": {},
   "outputs": [
    {
     "data": {
      "text/plain": [
       "0.861690978817532"
      ]
     },
     "execution_count": 47,
     "metadata": {},
     "output_type": "execute_result"
    }
   ],
   "source": [
    "\n",
    "roc_auc_score(test_df_y,mcr.predict_prob(test_df_x), multi_class='ovr',average='macro')"
   ]
  },
  {
   "attachments": {},
   "cell_type": "markdown",
   "metadata": {},
   "source": [
    "Roc Score For the second model"
   ]
  },
  {
   "cell_type": "code",
   "execution_count": 48,
   "metadata": {},
   "outputs": [
    {
     "data": {
      "text/plain": [
       "0.8618727284503316"
      ]
     },
     "execution_count": 48,
     "metadata": {},
     "output_type": "execute_result"
    }
   ],
   "source": [
    "roc_auc_score(test_df_y, mcr_2.predict_prob(test_df_x), multi_class='ovr',average='macro')"
   ]
  },
  {
   "attachments": {},
   "cell_type": "markdown",
   "metadata": {},
   "source": [
    "Confusion Matrix Heat Map for first Model"
   ]
  },
  {
   "cell_type": "code",
   "execution_count": 49,
   "metadata": {},
   "outputs": [
    {
     "data": {
      "image/png": "[encoded data removed]",
      "text/plain": [
       "<Figure size 640x480 with 2 Axes>"
      ]
     },
     "metadata": {},
     "output_type": "display_data"
    }
   ],
   "source": [
    "fig = sns.heatmap(confusion_matrix(test_df_y,predictions),annot=True,fmt='g')"
   ]
  },
  {
   "attachments": {},
   "cell_type": "markdown",
   "metadata": {},
   "source": [
    "Confusion Matrix Heatmap for the second model"
   ]
  },
  {
   "cell_type": "code",
   "execution_count": 50,
   "metadata": {},
   "outputs": [
    {
     "data": {
      "text/plain": [
       "<AxesSubplot: >"
      ]
     },
     "execution_count": 50,
     "metadata": {},
     "output_type": "execute_result"
    },
    {
     "data": {
      "image/png": "[encoded data removed]",
      "text/plain": [
       "<Figure size 640x480 with 2 Axes>"
      ]
     },
     "metadata": {},
     "output_type": "display_data"
    }
   ],
   "source": [
    "sns.heatmap(confusion_matrix(test_df_y,predictions_2), annot=True,fmt='g')"
   ]
  },
  {
   "cell_type": "code",
   "execution_count": 51,
   "metadata": {},
   "outputs": [],
   "source": [
    "#mcr.save_model() The model saved here had 5000 iterations during training"
   ]
  },
  {
   "attachments": {},
   "cell_type": "markdown",
   "metadata": {},
   "source": [
    "Loading the Saved model, running predictions and checking performance metrics"
   ]
  },
  {
   "cell_type": "code",
   "execution_count": 52,
   "metadata": {},
   "outputs": [],
   "source": [
    "pckl = load_model()"
   ]
  },
  {
   "cell_type": "code",
   "execution_count": 53,
   "metadata": {},
   "outputs": [],
   "source": [
    "prediction_pickle = pckl.predict(test_df_x)\n",
    "prediction_pickle = label_encoder.inverse_transform(prediction_pickle)"
   ]
  },
  {
   "cell_type": "code",
   "execution_count": 54,
   "metadata": {},
   "outputs": [
    {
     "name": "stdout",
     "output_type": "stream",
     "text": [
      "                                  precision    recall  f1-score   support\n",
      "\n",
      "   Borderline Risk (>5% - <7.5%)       1.00      0.00      0.00        43\n",
      "                High Risk (≥20%)       0.74      0.98      0.85       300\n",
      "Intermediate Risk (≥7.5% - <20%)       0.50      0.48      0.49       192\n",
      "                  Low Risk (<5%)       1.00      0.45      0.62        82\n",
      "\n",
      "                        accuracy                           0.69       617\n",
      "                       macro avg       0.81      0.48      0.49       617\n",
      "                    weighted avg       0.72      0.69      0.65       617\n",
      "\n"
     ]
    }
   ],
   "source": [
    "print(classification_report(test_df_y,prediction_pickle,zero_division=1))"
   ]
  },
  {
   "cell_type": "code",
   "execution_count": 55,
   "metadata": {},
   "outputs": [
    {
     "data": {
      "text/plain": [
       "0.8771967219237841"
      ]
     },
     "execution_count": 55,
     "metadata": {},
     "output_type": "execute_result"
    }
   ],
   "source": [
    "roc_auc_score(test_df_y,pckl.predict_prob(test_df_x), multi_class='ovr',average='macro')"
   ]
  },
  {
   "cell_type": "code",
   "execution_count": 56,
   "metadata": {},
   "outputs": [
    {
     "data": {
      "text/plain": [
       "<AxesSubplot: >"
      ]
     },
     "execution_count": 56,
     "metadata": {},
     "output_type": "execute_result"
    },
    {
     "data": {
      "image/png": "[encoded data removed]",
      "text/plain": [
       "<Figure size 640x480 with 2 Axes>"
      ]
     },
     "metadata": {},
     "output_type": "display_data"
    }
   ],
   "source": [
    "sns.heatmap(confusion_matrix(test_df_y,prediction_pickle), annot=True,fmt='g')"
   ]
  },
  {
   "attachments": {},
   "cell_type": "markdown",
   "metadata": {},
   "source": [
    "---"
   ]
  }
 ],
 "metadata": {
  "kernelspec": {
   "display_name": "myvenv",
   "language": "python",
   "name": "python3"
  },
  "language_info": {
   "codemirror_mode": {
    "name": "ipython",
    "version": 3
   },
   "file_extension": ".py",
   "mimetype": "text/x-python",
   "name": "python",
   "nbconvert_exporter": "python",
   "pygments_lexer": "ipython3",
   "version": "3.8.10"
  },
  "orig_nbformat": 4,
  "vscode": {
   "interpreter": {
    "hash": "58166a1e17a3db2086f26aafef42e80935cf6420307223328143a560c6b4a197"
   }
  }
 },
 "nbformat": 4,
 "nbformat_minor": 2
}
